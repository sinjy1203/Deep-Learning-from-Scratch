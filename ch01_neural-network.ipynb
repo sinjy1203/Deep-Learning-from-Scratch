{
 "cells": [
  {
   "cell_type": "markdown",
   "id": "fba133bc",
   "metadata": {},
   "source": [
    "## forward net"
   ]
  },
  {
   "cell_type": "code",
   "execution_count": 1,
   "id": "f2822bff",
   "metadata": {},
   "outputs": [],
   "source": [
    "import numpy as np\n",
    "\n",
    "class Sigmoid:\n",
    "    def __init__(self):\n",
    "        self.params = []\n",
    "    def forward(self, x):\n",
    "        return 1 / (1 + np.exp(-x))"
   ]
  },
  {
   "cell_type": "code",
   "execution_count": 2,
   "id": "9a7b3694",
   "metadata": {},
   "outputs": [],
   "source": [
    "class Affine:\n",
    "    def __init__(self, w, b):\n",
    "        self.params = [w, b]\n",
    "    def forward(self, x):\n",
    "        w, b = self.params\n",
    "        return np.dot(x, w) + b"
   ]
  },
  {
   "cell_type": "code",
   "execution_count": 3,
   "id": "33695b19",
   "metadata": {},
   "outputs": [],
   "source": [
    "class TwoLayerNet:\n",
    "    def __init__(self, input_size, hidden_size, output_size):\n",
    "        w1 = np.random.randn(input_size, hidden_size)\n",
    "        b1 = np.random.randn(hidden_size)\n",
    "        w2 = np.random.randn(hidden_size, output_size)\n",
    "        b2 = np.random.randn(output_size)\n",
    "        \n",
    "        self.layers = [\n",
    "            Affine(w1, b1),\n",
    "            Sigmoid(),\n",
    "            Affine(w2, b2)\n",
    "        ]\n",
    "        \n",
    "        self.params = [layer.params for layer in self.layers]\n",
    "        \n",
    "    def predict(self, x):\n",
    "        for layer in self.layers:\n",
    "            x = layer.forward(x)\n",
    "        return x"
   ]
  },
  {
   "cell_type": "code",
   "execution_count": 4,
   "id": "faea2ef5",
   "metadata": {},
   "outputs": [],
   "source": [
    "x = np.random.randn(10, 2)\n",
    "model = TwoLayerNet(2, 4, 3)\n",
    "s = model.predict(x)"
   ]
  },
  {
   "cell_type": "code",
   "execution_count": 5,
   "id": "a4e8ad8d",
   "metadata": {},
   "outputs": [
    {
     "data": {
      "text/plain": [
       "array([[-2.3317083 , -3.19042514, -0.23119021],\n",
       "       [-2.57521883, -1.83549802, -0.76287278],\n",
       "       [-2.15316216, -1.93678914, -0.3101118 ],\n",
       "       [-2.51159192, -1.35771845, -0.61465907],\n",
       "       [-2.31794593, -3.19792686, -0.40485546],\n",
       "       [-2.17810112, -2.58348233, -0.36534893],\n",
       "       [-2.69762704, -1.59603733, -0.73630214],\n",
       "       [-2.65965194, -1.71332283, -0.73550488],\n",
       "       [-2.29237808, -1.94267751, -0.60145927],\n",
       "       [-2.18282668, -2.44561274, -0.50910082]])"
      ]
     },
     "execution_count": 5,
     "metadata": {},
     "output_type": "execute_result"
    }
   ],
   "source": [
    "s"
   ]
  },
  {
   "cell_type": "markdown",
   "id": "2dc6601e",
   "metadata": {},
   "source": [
    "## backward net"
   ]
  },
  {
   "cell_type": "code",
   "execution_count": 5,
   "id": "ea4a060d",
   "metadata": {},
   "outputs": [],
   "source": [
    "class MatMul:\n",
    "    def __init__(self, w):\n",
    "        self.params = [w]\n",
    "        self.grads = [np.zeros_like(w)]\n",
    "    def forward(self, x):\n",
    "        w, = self.params\n",
    "        self.x = x\n",
    "        return np.matmul(x, w)\n",
    "    def backward(self, dout):\n",
    "        w, = self.params\n",
    "        dx = np.matmul(dout, w.T)\n",
    "        dw = np.matmul(self.x.T, dout)\n",
    "        self.grads[0][...] = dw\n",
    "        return dx"
   ]
  },
  {
   "cell_type": "code",
   "execution_count": 6,
   "id": "962eaea3",
   "metadata": {},
   "outputs": [],
   "source": [
    "class Sigmoid:\n",
    "    def __init__(self):\n",
    "        self.params, self.grads = [], []\n",
    "    def forward(self, x):\n",
    "        y = 1 / (1 + np.exp(-x))\n",
    "        self.y = y\n",
    "        return y\n",
    "    def backward(self, dout):\n",
    "        return dout * self.y*(1-self.y)"
   ]
  },
  {
   "cell_type": "code",
   "execution_count": 7,
   "id": "bf37b46b",
   "metadata": {},
   "outputs": [],
   "source": [
    "class Affine:\n",
    "    def __init__(self, w, b):\n",
    "        self.params = [w, b]\n",
    "        self.grads = [np.zeros_like(w), np.zeros_like(b)]\n",
    "    def forward(self, x):\n",
    "        self.x = x\n",
    "        w, b = self.params\n",
    "        return np.matmul(x, w) + b\n",
    "    def backward(self, dout):\n",
    "        w, b = self.params\n",
    "        dx = np.matmul(dout, w.T)\n",
    "        dw = np.matmul(self.x.T, dout)\n",
    "        db = np.sum(dout, axis=0)\n",
    "        \n",
    "        self.grads[0][...] = dw\n",
    "        self.grads[1][...] = db\n",
    "        return dx"
   ]
  },
  {
   "cell_type": "code",
   "execution_count": null,
   "id": "e8df72a7",
   "metadata": {},
   "outputs": [],
   "source": [
    "class SoftmaxWithLoss:\n",
    "    def __init__(self):\n",
    "        self.params, self.grads = [], []\n",
    "    def softmax(self, x):\n",
    "        exp_ = np.exp(x)\n",
    "        return exp_ / sum(exp_, axis=-1)\n",
    "    def forward(self, x, t):\n",
    "        self.t = t\n",
    "        y = self.sotfmax(x)\n",
    "        self.y = y\n",
    "        L = -np.sum(t*y)/len(t)\n",
    "        return L\n",
    "    def backward(self):\n",
    "        return self.y - self.t"
   ]
  },
  {
   "cell_type": "code",
   "execution_count": 8,
   "id": "7a7fa6b5",
   "metadata": {},
   "outputs": [
    {
     "data": {
      "text/plain": [
       "0.0"
      ]
     },
     "execution_count": 8,
     "metadata": {},
     "output_type": "execute_result"
    }
   ],
   "source": [
    "a = np.zeros((10, 10, 10))\n",
    "np.sum(a)"
   ]
  }
 ],
 "metadata": {
  "kernelspec": {
   "display_name": "machine-learning",
   "language": "python",
   "name": "machine-learning"
  },
  "language_info": {
   "codemirror_mode": {
    "name": "ipython",
    "version": 3
   },
   "file_extension": ".py",
   "mimetype": "text/x-python",
   "name": "python",
   "nbconvert_exporter": "python",
   "pygments_lexer": "ipython3",
   "version": "3.7.11"
  }
 },
 "nbformat": 4,
 "nbformat_minor": 5
}
