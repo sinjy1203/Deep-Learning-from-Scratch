{
 "cells": [
  {
   "cell_type": "code",
   "execution_count": 6,
   "id": "61065cfc",
   "metadata": {},
   "outputs": [],
   "source": [
    "import numpy as np\n",
    "\n",
    "class Embedding:\n",
    "    def __init__(self, w):\n",
    "        self.params = [w]\n",
    "        self.grads = [np.zeros_like(w)]\n",
    "        self.idx = None\n",
    "    def forward(self, idx):\n",
    "        self.idx = idx\n",
    "        return self.params[0][idx]\n",
    "    def backward(self, dout):\n",
    "        self.grads[0][...] = 0\n",
    "        np.add.at(self.grads[0], self.idx, dout)\n",
    "        return None"
   ]
  },
  {
   "cell_type": "code",
   "execution_count": 5,
   "id": "41a8c035",
   "metadata": {},
   "outputs": [
    {
     "data": {
      "text/plain": [
       "array([[ 0,  1,  2],\n",
       "       [ 3,  4,  5],\n",
       "       [ 7,  8,  9],\n",
       "       [10, 11, 12],\n",
       "       [13, 14, 15],\n",
       "       [15, 16, 17],\n",
       "       [18, 19, 20]])"
      ]
     },
     "execution_count": 5,
     "metadata": {},
     "output_type": "execute_result"
    }
   ],
   "source": [
    "class EmbeddingDot:\n",
    "    def __init__(self, w):\n",
    "        self.embed = Embedding(w)\n",
    "        self.params = self.embed.params\n",
    "        self.grads = self.embed.grads\n",
    "        self.cache = None\n",
    "    def forward(self, h, idx):\n",
    "        target_w = self.embed.forward(idx)\n",
    "        out = np.sum(target_w*h, axis=1)\n",
    "        self.cache = (h, target)\n",
    "        return out\n",
    "    def backward(self, dout):\n",
    "        h, target_w = self.cache\n",
    "        self.embed.backward(h*dout)\n",
    "        return target_w*dout"
   ]
  },
  {
   "cell_type": "code",
   "execution_count": 6,
   "id": "8f2710cb",
   "metadata": {},
   "outputs": [],
   "source": [
    "import collections\n",
    "class UnigramSampler:\n",
    "    def __init__(self, corpus, power, sample_size):\n",
    "        self.sample_size = sample_size\n",
    "        self.vocab_size = None\n",
    "        self.word_p = None\n",
    "\n",
    "        counts = collections.Counter()\n",
    "        for word_id in corpus:\n",
    "            counts[word_id] += 1\n",
    "\n",
    "        vocab_size = len(counts)\n",
    "        self.vocab_size = vocab_size\n",
    "\n",
    "        self.word_p = np.zeros(vocab_size)\n",
    "        for i in range(vocab_size):\n",
    "            self.word_p[i] = counts[i]\n",
    "\n",
    "        self.word_p = np.power(self.word_p, power)\n",
    "        self.word_p /= np.sum(self.word_p)\n",
    "\n",
    "    def get_negative_sample(self, target):\n",
    "        batch_size = target.shape[0]\n",
    "\n",
    "        negative_sample = np.zeros((batch_size, self.sample_size), dtype=np.int32)\n",
    "\n",
    "        for i in range(batch_size):\n",
    "            p = self.word_p.copy()\n",
    "            target_idx = target[i]\n",
    "            p[target_idx] = 0\n",
    "            p /= p.sum()\n",
    "            negative_sample[i, :] = np.random.choice(self.vocab_size, size=self.sample_size, replace=False, p=p)\n",
    "        return negative_sample"
   ]
  },
  {
   "cell_type": "code",
   "execution_count": 7,
   "id": "866e1b36",
   "metadata": {},
   "outputs": [
    {
     "data": {
      "text/plain": [
       "array([[2, 3],\n",
       "       [2, 4],\n",
       "       [3, 2]])"
      ]
     },
     "execution_count": 7,
     "metadata": {},
     "output_type": "execute_result"
    }
   ],
   "source": [
    "import numpy as np\n",
    "corpus = np.array([0, 1, 2, 3, 4, 1, 2, 3])\n",
    "power = 0.75\n",
    "sample_size = 2\n",
    "\n",
    "sampler = UnigramSampler(corpus, power, sample_size)\n",
    "target = np.array([1, 3, 0])\n",
    "negative_sample = sampler.get_negative_sample(target)\n",
    "negative_sample"
   ]
  },
  {
   "cell_type": "code",
   "execution_count": 1,
   "id": "1732e0ac",
   "metadata": {},
   "outputs": [],
   "source": [
    "from common.layers import SigmoidWithLoss\n",
    "\n",
    "class NegativeSamplingLoss:\n",
    "    def __init__(self, w, corpus, power=0.75, sample_size=5):\n",
    "        self.sample_size = sample_size\n",
    "        self.sampler = UnigramSampler(corpus, power, sample_size)\n",
    "        self.loss_layers = [SigmoidWithLoss() for _ in range(sample_size+1)]\n",
    "        self.embed_dot_layers = [EmbeddingDot(w) for _ in range(sample_size+1)]\n",
    "        self.params, self.grads = [], []\n",
    "        for layer in self.embed_dot_layers:\n",
    "            self.params += [layer.params]\n",
    "            self.grads += [layer.grads]\n",
    "    def forward(self, h, target):\n",
    "        batch_size = len(target)\n",
    "        negative_sample = self.sampler.get_negative_sample(target)\n",
    "        \n",
    "        positive_target = np.ones_like(target, dtype=np.int32)\n",
    "        score = self.embed_dot_layers[0].forward(h, target)\n",
    "        loss = self.loss_layers[0].forward(score, positive_target)\n",
    "        \n",
    "        negative_target = np.zeros_like(negative_sample, dtype=np.int32)\n",
    "        for i in range(self.sample_size):\n",
    "            score = self.embed_dot_layers[i+1].forward(h, negative_sample[:, i])\n",
    "            loss += self.loss_layers[i+1].forward(score, negative_target[:, i])\n",
    "        return loss\n",
    "    def backward(self, dout=1):\n",
    "        dh = 0\n",
    "        for i in range(self.sample_size+1):\n",
    "            dscore = self.loss_layers[i].backward(dout)\n",
    "            dh += self.embed_dot_layers[i].backward(dscore)\n",
    "            \n",
    "        return dh"
   ]
  },
  {
   "cell_type": "code",
   "execution_count": null,
   "id": "04b36327",
   "metadata": {},
   "outputs": [],
   "source": [
    "from common.np import *\n",
    "from common.layers import Embedding\n",
    "from common.negative_sampling_layer import NegativeSamplingLoss\n",
    "\n",
    "class CBOW:\n",
    "    def __init__(self, vocab_size, hidden_size, window_size, corpus):\n",
    "        w_in = np.random.randn(vocab_size, hidden_size).astype('f')\n",
    "        w_out = np.random.randn(vocab_size, hidden_size).astype('f')\n",
    "        \n",
    "        self.in_layers = []\n",
    "        for _ in range(2*window_size):\n",
    "            self.in_layers += [Embedding(w_in)]\n",
    "        self.ns_loss = NegativeSamplingLoss(w_out, corpus)\n",
    "        \n",
    "        layers = self.in_layers + [self.ns_loss]\n",
    "        self.params, self.grads = [], []\n",
    "        for layer in layers:\n",
    "            self.params += layer.params\n",
    "            self.grads += layer.grads\n",
    "            \n",
    "        self.word_vecs = w_in\n",
    "    def forward(self, contexts, target):\n",
    "        h = 0\n",
    "        for i, layer in enumerate(self.in_layers):\n",
    "            h += layer.forward(contexts[:, i])\n",
    "        h *= 1/len(self.in_layers)\n",
    "        loss = self.ns_loss.forward(h, target)\n",
    "        return loss\n",
    "    def backward(self, dout=1):\n",
    "        dh = self.ns_loss.backward(dout)\n",
    "        dh *= 1/len(self.in_layers)\n",
    "        for layer in self.in_layers:\n",
    "            layer.backward(dh)\n",
    "        return None"
   ]
  },
  {
   "cell_type": "code",
   "execution_count": null,
   "id": "b6c068b2",
   "metadata": {},
   "outputs": [],
   "source": [
    "from common.trainer import Trainer\n",
    "from common.optimizer import Adam\n",
    "from common.util import crate_contexts\n",
    "import ptb\n",
    "\n",
    "window_size = 5\n",
    "hidden_size = 100\n",
    "batch_size = 100\n",
    "max_epoch = 10\n",
    "\n",
    "corpus, word_to_id, id_to_word = ptb.load_data('train')\n",
    "vocab_size = len(word_to_id)\n",
    "\n",
    "contexts, "
   ]
  }
 ],
 "metadata": {
  "kernelspec": {
   "display_name": "machine-learning",
   "language": "python",
   "name": "machine-learning"
  },
  "language_info": {
   "codemirror_mode": {
    "name": "ipython",
    "version": 3
   },
   "file_extension": ".py",
   "mimetype": "text/x-python",
   "name": "python",
   "nbconvert_exporter": "python",
   "pygments_lexer": "ipython3",
   "version": "3.7.11"
  }
 },
 "nbformat": 4,
 "nbformat_minor": 5
}
