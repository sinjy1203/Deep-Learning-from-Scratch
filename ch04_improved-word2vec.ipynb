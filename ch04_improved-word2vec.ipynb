{
 "cells": [
  {
   "cell_type": "code",
   "execution_count": 6,
   "id": "61065cfc",
   "metadata": {},
   "outputs": [],
   "source": [
    "import numpy as np\n",
    "\n",
    "class Embedding:\n",
    "    def __init__(self, w):\n",
    "        self.params = [w]\n",
    "        self.grads = [np.zeros_like(w)]\n",
    "        self.idx = None\n",
    "    def forward(self, idx):\n",
    "        self.idx = idx\n",
    "        return self.params[0][idx]\n",
    "    def backward(self, dout):\n",
    "        self.grads[0][...] = 0\n",
    "        np.add.at(self.grads[0], self.idx, dout)\n",
    "        return None"
   ]
  },
  {
   "cell_type": "code",
   "execution_count": 5,
   "id": "41a8c035",
   "metadata": {},
   "outputs": [
    {
     "data": {
      "text/plain": [
       "array([[ 0,  1,  2],\n",
       "       [ 3,  4,  5],\n",
       "       [ 7,  8,  9],\n",
       "       [10, 11, 12],\n",
       "       [13, 14, 15],\n",
       "       [15, 16, 17],\n",
       "       [18, 19, 20]])"
      ]
     },
     "execution_count": 5,
     "metadata": {},
     "output_type": "execute_result"
    }
   ],
   "source": [
    "class EmbeddingDot:\n",
    "    def __init__(self, w):\n",
    "        self.embed = Embedding(w)\n",
    "        self.params = self.embed.params\n",
    "        self.grads = self.embed.grads\n",
    "        self.cache = None\n",
    "    def forward(self, h, idx):\n",
    "        target_w = self.embed.forward(idx)\n",
    "        out = np.sum(target_w*h, axis=1)\n",
    "        self.cache = (h, target)\n",
    "        return out\n",
    "    def backward(self, dout):\n",
    "        h, target_w = self.cache\n",
    "        self.embed.backward(h*dout)\n",
    "        return target_w*dout"
   ]
  }
 ],
 "metadata": {
  "kernelspec": {
   "display_name": "machine-learning",
   "language": "python",
   "name": "machine-learning"
  },
  "language_info": {
   "codemirror_mode": {
    "name": "ipython",
    "version": 3
   },
   "file_extension": ".py",
   "mimetype": "text/x-python",
   "name": "python",
   "nbconvert_exporter": "python",
   "pygments_lexer": "ipython3",
   "version": "3.7.11"
  }
 },
 "nbformat": 4,
 "nbformat_minor": 5
}
