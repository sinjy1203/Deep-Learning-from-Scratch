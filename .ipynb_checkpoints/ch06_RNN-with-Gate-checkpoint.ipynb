{
 "cells": [
  {
   "cell_type": "code",
   "execution_count": null,
   "id": "ee21b058",
   "metadata": {},
   "outputs": [],
   "source": [
    "import numpy as np\n",
    "from common.functions import *\n",
    "class LSTM:\n",
    "    def __init__(self, wx, wh, b):\n",
    "        self.params = [wx, wh, b]\n",
    "        self.grads = [np.zeros_like(wx), np.zeros_like(wh), np.zeros_like(b)]\n",
    "        self.cache = None\n",
    "    def forward(self, x, h_prev, c_prev):\n",
    "        wx, wh, b = self.params\n",
    "        N, H = h_prev.shape\n",
    "        \n",
    "        A = np.matmul(x, wx) + np.matmul(h_prev, wh) + b\n",
    "        \n",
    "        f, g, i, o = A[:, :H], A[:, H:2*H], A[:, 2*H:3*H], A[:, 3*H:]\n",
    "        f, i, o = sigmoid(f), sigmoid(i), sigmoid(o)\n",
    "        g = np.tanh(g)\n",
    "        \n",
    "        c_next = c_prev * f + g * i\n",
    "        h_next = np.tanh(c_next) * o\n",
    "        \n",
    "        self.cache = (x, h_prev, c_prev, i, f, g, o, c_next)\n",
    "        return h_next, c_next\n",
    "    def backward(self, dh_next, dc_next):\n",
    "        wx, wh, b = self.params\n",
    "        x, h_prev, c_prev, i, f, g, o, c_next = self.cache\n",
    "        \n",
    "        tanh_c_next = np.tanh(c_next)\n",
    "        ds = dc_next + (dh_next * o) * (1 - tanh_c_next**2)\n",
    "        \n",
    "        dc_prev = f * ds\n",
    "        di = g * ds\n",
    "        df = c_prev * ds\n",
    "        do = tanh_c_next * dh_next\n",
    "        dg = i * ds\n",
    "        \n",
    "        di *= i * (1 - i)\n",
    "        df *= f * (1 - f)\n",
    "        do *= o * (1 - o)\n",
    "        dg *= (1 - g ** 2)\n",
    "        \n",
    "        dA = np.hstack((df, dg, di, do))\n",
    "        \n",
    "        db = dA.sum(axis=0)\n",
    "        dwh = np.dot(h_prev.T, dA)\n",
    "        dwx = np.dot(x.T, dA)\n",
    "        \n",
    "        self.grads[0][...] = dWx\n",
    "        self.grads[1][...] = dWh\n",
    "        self.grads[2][...] = db\n",
    "\n",
    "        dx = np.dot(dA, Wx.T)\n",
    "        dh_prev = np.dot(dA, Wh.T)\n",
    "\n",
    "        return dx, dh_prev, dc_prev"
   ]
  }
 ],
 "metadata": {
  "kernelspec": {
   "display_name": "Python 3 (ipykernel)",
   "language": "python",
   "name": "python3"
  },
  "language_info": {
   "codemirror_mode": {
    "name": "ipython",
    "version": 3
   },
   "file_extension": ".py",
   "mimetype": "text/x-python",
   "name": "python",
   "nbconvert_exporter": "python",
   "pygments_lexer": "ipython3",
   "version": "3.7.11"
  }
 },
 "nbformat": 4,
 "nbformat_minor": 5
}
